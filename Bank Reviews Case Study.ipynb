{
 "cells": [
  {
   "cell_type": "code",
   "execution_count": 2,
   "metadata": {},
   "outputs": [],
   "source": [
    "#import required packages\n",
    "#basics\n",
    "import pandas as pd \n",
    "import numpy as np\n",
    "\n",
    "#stats\n",
    "#from scipy.misc import imread\n",
    "from scipy import sparse\n",
    "import scipy.stats as ss\n",
    "\n",
    "#viz\n",
    "import matplotlib.pyplot as plt\n",
    "import matplotlib.gridspec as gridspec \n",
    "import seaborn as sns\n",
    "from wordcloud import WordCloud ,STOPWORDS\n",
    "from PIL import Image\n",
    "import pyLDAvis\n",
    "\n",
    "#nlp\n",
    "import string\n",
    "import re    #for regex\n",
    "import nltk\n",
    "from nltk.corpus import stopwords\n",
    "\n",
    "#import spacy\n",
    "from nltk import pos_tag\n",
    "from nltk.stem.wordnet import WordNetLemmatizer \n",
    "from nltk.tokenize import word_tokenize\n",
    "\n",
    "# Tweet tokenizer does not split at apostophes which is what we want\n",
    "from nltk.tokenize import TweetTokenizer   \n",
    "\n",
    "\n",
    "#FeatureEngineering\n",
    "from sklearn.feature_extraction.text import TfidfVectorizer, CountVectorizer, HashingVectorizer, TfidfTransformer\n",
    "from sklearn.decomposition import TruncatedSVD\n",
    "from sklearn.base import BaseEstimator, ClassifierMixin\n",
    "from sklearn.utils.validation import check_X_y, check_is_fitted\n",
    "from sklearn import model_selection, preprocessing, linear_model, naive_bayes, metrics, svm, ensemble,decomposition\n",
    "from sklearn.linear_model import LogisticRegression\n",
    "from sklearn.metrics import log_loss\n",
    "from sklearn.model_selection import StratifiedKFold\n",
    "from sklearn.model_selection import train_test_split,GridSearchCV\n",
    "\n",
    "import  textblob\n",
    "from xgboost import XGBClassifier\n",
    "\n",
    "from textblob import TextBlob\n",
    "from nltk.stem import PorterStemmer\n",
    "import nltk\n",
    "from textblob import Word\n",
    "from imblearn.over_sampling import RandomOverSampler\n",
    "\n",
    "#settings\n",
    "color = sns.color_palette()\n",
    "sns.set_style(\"dark\")\n",
    "\n",
    "lem = WordNetLemmatizer()\n",
    "tokenizer = TweetTokenizer()\n",
    "\n",
    "%matplotlib inline"
   ]
  },
  {
   "cell_type": "code",
   "execution_count": 3,
   "metadata": {},
   "outputs": [],
   "source": [
    "bank_reviews = pd.read_excel('BankReviews.xlsx')"
   ]
  },
  {
   "cell_type": "code",
   "execution_count": 4,
   "metadata": {},
   "outputs": [
    {
     "data": {
      "text/html": [
       "<div>\n",
       "<style scoped>\n",
       "    .dataframe tbody tr th:only-of-type {\n",
       "        vertical-align: middle;\n",
       "    }\n",
       "\n",
       "    .dataframe tbody tr th {\n",
       "        vertical-align: top;\n",
       "    }\n",
       "\n",
       "    .dataframe thead th {\n",
       "        text-align: right;\n",
       "    }\n",
       "</style>\n",
       "<table border=\"1\" class=\"dataframe\">\n",
       "  <thead>\n",
       "    <tr style=\"text-align: right;\">\n",
       "      <th></th>\n",
       "      <th>Date</th>\n",
       "      <th>Stars</th>\n",
       "      <th>Reviews</th>\n",
       "      <th>BankName</th>\n",
       "    </tr>\n",
       "  </thead>\n",
       "  <tbody>\n",
       "    <tr>\n",
       "      <th>0</th>\n",
       "      <td>2017-04-10</td>\n",
       "      <td>5</td>\n",
       "      <td>Great job, Wyndham Capital! Each person was pr...</td>\n",
       "      <td>Wyndham Capital Mortgage</td>\n",
       "    </tr>\n",
       "    <tr>\n",
       "      <th>1</th>\n",
       "      <td>2017-02-10</td>\n",
       "      <td>5</td>\n",
       "      <td>Matthew Richardson is professional and helpful...</td>\n",
       "      <td>Wyndham Capital Mortgage</td>\n",
       "    </tr>\n",
       "    <tr>\n",
       "      <th>2</th>\n",
       "      <td>2017-08-21</td>\n",
       "      <td>5</td>\n",
       "      <td>We had a past experience with Wyndham Mortgage...</td>\n",
       "      <td>Wyndham Capital Mortgage</td>\n",
       "    </tr>\n",
       "    <tr>\n",
       "      <th>3</th>\n",
       "      <td>2017-12-17</td>\n",
       "      <td>5</td>\n",
       "      <td>We have been dealing with Brad Thomka from the...</td>\n",
       "      <td>Wyndham Capital Mortgage</td>\n",
       "    </tr>\n",
       "    <tr>\n",
       "      <th>4</th>\n",
       "      <td>2016-05-27</td>\n",
       "      <td>5</td>\n",
       "      <td>I can't express how grateful I am for the supp...</td>\n",
       "      <td>Wyndham Capital Mortgage</td>\n",
       "    </tr>\n",
       "  </tbody>\n",
       "</table>\n",
       "</div>"
      ],
      "text/plain": [
       "        Date  Stars                                            Reviews  \\\n",
       "0 2017-04-10      5  Great job, Wyndham Capital! Each person was pr...   \n",
       "1 2017-02-10      5  Matthew Richardson is professional and helpful...   \n",
       "2 2017-08-21      5  We had a past experience with Wyndham Mortgage...   \n",
       "3 2017-12-17      5  We have been dealing with Brad Thomka from the...   \n",
       "4 2016-05-27      5  I can't express how grateful I am for the supp...   \n",
       "\n",
       "                   BankName  \n",
       "0  Wyndham Capital Mortgage  \n",
       "1  Wyndham Capital Mortgage  \n",
       "2  Wyndham Capital Mortgage  \n",
       "3  Wyndham Capital Mortgage  \n",
       "4  Wyndham Capital Mortgage  "
      ]
     },
     "execution_count": 4,
     "metadata": {},
     "output_type": "execute_result"
    }
   ],
   "source": [
    "bank_reviews.head()"
   ]
  },
  {
   "cell_type": "code",
   "execution_count": 5,
   "metadata": {},
   "outputs": [],
   "source": [
    "bank_reviews = bank_reviews[['Stars','Reviews']]"
   ]
  },
  {
   "cell_type": "code",
   "execution_count": 6,
   "metadata": {},
   "outputs": [],
   "source": [
    "df = bank_reviews"
   ]
  },
  {
   "cell_type": "code",
   "execution_count": 7,
   "metadata": {},
   "outputs": [],
   "source": [
    "#Exploratory data analysis\n",
    "\n",
    "df['Reviews'] = df['Reviews'].astype(str)\n",
    "df['count_sent']=df[\"Reviews\"].apply(lambda x: len(re.findall(\"\\n\",str(x)))+1)\n",
    "\n",
    "#Word count in each comment:\n",
    "df['count_word']=df[\"Reviews\"].apply(lambda x: len(str(x).split()))\n",
    "\n",
    "#Unique word count\n",
    "df['count_unique_word']=df[\"Reviews\"].apply(lambda x: len(set(str(x).split())))\n",
    "\n",
    "#Letter count\n",
    "df['count_letters']=df[\"Reviews\"].apply(lambda x: len(str(x)))\n",
    "\n",
    "#Word density\n",
    "\n",
    "df['word_density'] = df['count_letters'] / (df['count_word']+1)\n",
    "\n",
    "#punctuation count\n",
    "df[\"count_punctuations\"] =df[\"Reviews\"].apply(lambda x: len([c for c in str(x) if c in string.punctuation]))\n",
    "\n",
    "#upper case words count\n",
    "df[\"count_words_upper\"] = df[\"Reviews\"].apply(lambda x: len([w for w in str(x).split() if w.isupper()]))\n",
    "\n",
    "#upper case words count\n",
    "df[\"count_words_lower\"] = df[\"Reviews\"].apply(lambda x: len([w for w in str(x).split() if w.islower()]))\n",
    "\n",
    "#title case words count\n",
    "df[\"count_words_title\"] = df[\"Reviews\"].apply(lambda x: len([w for w in str(x).split() if w.istitle()]))\n",
    "\n",
    "#Average length of the words\n",
    "df[\"mean_word_len\"] = df[\"Reviews\"].apply(lambda x: np.mean([len(w) for w in str(x).split()]))\n",
    "\n",
    "#Number of numeric\n",
    "df['numeric'] = df['Reviews'].apply(lambda x :len([x for x in x.split() if x.isdigit()]))\n",
    "\n",
    "#Number of alphanumeric\n",
    "df['alphanumeric'] = df['Reviews'].apply(lambda x :len([x for x in x.split() if x.isalnum()]))\n",
    "\n",
    "#Number of alphabetics\n",
    "df['alphabetetics'] = df['Reviews'].apply(lambda x :len([x for x in x.split() if x.isalpha()]))\n",
    "\n",
    "#Number of alphabetics\n",
    "df['Spaces'] = df['Reviews'].apply(lambda x :len([x for x in x.split() if x.isspace()]))\n",
    "\n",
    "#Number of Words ends with\n",
    "df['words_ends_with_et'] = df['Reviews'].apply(lambda x :len([x for x in x.lower().split() if x.endswith('et')]))\n",
    "\n",
    "#Number of Words ends with\n",
    "df['words_start_with_no'] = df['Reviews'].apply(lambda x :len([x for x in x.lower().split() if x.startswith('no')]))\n",
    "\n",
    "# Count the occurences of all words\n",
    "df['wordcounts'] = df['Reviews'].apply(lambda x :dict([ [t, x.split().count(t)] for t in set(x.split()) ]))"
   ]
  },
  {
   "cell_type": "code",
   "execution_count": 8,
   "metadata": {},
   "outputs": [
    {
     "data": {
      "text/html": [
       "<div>\n",
       "<style scoped>\n",
       "    .dataframe tbody tr th:only-of-type {\n",
       "        vertical-align: middle;\n",
       "    }\n",
       "\n",
       "    .dataframe tbody tr th {\n",
       "        vertical-align: top;\n",
       "    }\n",
       "\n",
       "    .dataframe thead th {\n",
       "        text-align: right;\n",
       "    }\n",
       "</style>\n",
       "<table border=\"1\" class=\"dataframe\">\n",
       "  <thead>\n",
       "    <tr style=\"text-align: right;\">\n",
       "      <th></th>\n",
       "      <th>Stars</th>\n",
       "      <th>Reviews</th>\n",
       "      <th>count_sent</th>\n",
       "      <th>count_word</th>\n",
       "      <th>count_unique_word</th>\n",
       "      <th>count_letters</th>\n",
       "      <th>word_density</th>\n",
       "      <th>count_punctuations</th>\n",
       "      <th>count_words_upper</th>\n",
       "      <th>count_words_lower</th>\n",
       "      <th>count_words_title</th>\n",
       "      <th>mean_word_len</th>\n",
       "      <th>numeric</th>\n",
       "      <th>alphanumeric</th>\n",
       "      <th>alphabetetics</th>\n",
       "      <th>Spaces</th>\n",
       "      <th>words_ends_with_et</th>\n",
       "      <th>words_start_with_no</th>\n",
       "      <th>wordcounts</th>\n",
       "    </tr>\n",
       "  </thead>\n",
       "  <tbody>\n",
       "    <tr>\n",
       "      <th>0</th>\n",
       "      <td>5</td>\n",
       "      <td>Great job, Wyndham Capital! Each person was pr...</td>\n",
       "      <td>1</td>\n",
       "      <td>19</td>\n",
       "      <td>19</td>\n",
       "      <td>126</td>\n",
       "      <td>6.300000</td>\n",
       "      <td>4</td>\n",
       "      <td>0</td>\n",
       "      <td>14</td>\n",
       "      <td>5</td>\n",
       "      <td>5.684211</td>\n",
       "      <td>0</td>\n",
       "      <td>15</td>\n",
       "      <td>15</td>\n",
       "      <td>0</td>\n",
       "      <td>0</td>\n",
       "      <td>0</td>\n",
       "      <td>{'and': 1, 'our': 1, 'Wyndham': 1, 'you!': 1, ...</td>\n",
       "    </tr>\n",
       "    <tr>\n",
       "      <th>1</th>\n",
       "      <td>5</td>\n",
       "      <td>Matthew Richardson is professional and helpful...</td>\n",
       "      <td>1</td>\n",
       "      <td>25</td>\n",
       "      <td>23</td>\n",
       "      <td>159</td>\n",
       "      <td>6.115385</td>\n",
       "      <td>4</td>\n",
       "      <td>0</td>\n",
       "      <td>20</td>\n",
       "      <td>5</td>\n",
       "      <td>5.400000</td>\n",
       "      <td>0</td>\n",
       "      <td>21</td>\n",
       "      <td>21</td>\n",
       "      <td>0</td>\n",
       "      <td>0</td>\n",
       "      <td>0</td>\n",
       "      <td>{'and': 1, 'mortgage.': 1, 'our': 1, 'Matthew!...</td>\n",
       "    </tr>\n",
       "    <tr>\n",
       "      <th>2</th>\n",
       "      <td>5</td>\n",
       "      <td>We had a past experience with Wyndham Mortgage...</td>\n",
       "      <td>1</td>\n",
       "      <td>79</td>\n",
       "      <td>64</td>\n",
       "      <td>462</td>\n",
       "      <td>5.775000</td>\n",
       "      <td>8</td>\n",
       "      <td>0</td>\n",
       "      <td>64</td>\n",
       "      <td>14</td>\n",
       "      <td>4.860759</td>\n",
       "      <td>0</td>\n",
       "      <td>73</td>\n",
       "      <td>73</td>\n",
       "      <td>0</td>\n",
       "      <td>0</td>\n",
       "      <td>1</td>\n",
       "      <td>{'&amp;': 1, 'and': 4, 'on': 1, 'We': 2, 'found': ...</td>\n",
       "    </tr>\n",
       "    <tr>\n",
       "      <th>3</th>\n",
       "      <td>5</td>\n",
       "      <td>We have been dealing with Brad Thomka from the...</td>\n",
       "      <td>1</td>\n",
       "      <td>108</td>\n",
       "      <td>78</td>\n",
       "      <td>605</td>\n",
       "      <td>5.550459</td>\n",
       "      <td>9</td>\n",
       "      <td>0</td>\n",
       "      <td>88</td>\n",
       "      <td>18</td>\n",
       "      <td>4.611111</td>\n",
       "      <td>0</td>\n",
       "      <td>101</td>\n",
       "      <td>101</td>\n",
       "      <td>0</td>\n",
       "      <td>0</td>\n",
       "      <td>1</td>\n",
       "      <td>{'on': 1, 'of': 1, 'found': 1, 'team': 2, 'mil...</td>\n",
       "    </tr>\n",
       "    <tr>\n",
       "      <th>4</th>\n",
       "      <td>5</td>\n",
       "      <td>I can't express how grateful I am for the supp...</td>\n",
       "      <td>1</td>\n",
       "      <td>59</td>\n",
       "      <td>47</td>\n",
       "      <td>341</td>\n",
       "      <td>5.683333</td>\n",
       "      <td>6</td>\n",
       "      <td>3</td>\n",
       "      <td>50</td>\n",
       "      <td>9</td>\n",
       "      <td>4.796610</td>\n",
       "      <td>0</td>\n",
       "      <td>53</td>\n",
       "      <td>53</td>\n",
       "      <td>0</td>\n",
       "      <td>0</td>\n",
       "      <td>1</td>\n",
       "      <td>{'and': 4, 'purchase!': 1, 'way.': 1, 'home': ...</td>\n",
       "    </tr>\n",
       "  </tbody>\n",
       "</table>\n",
       "</div>"
      ],
      "text/plain": [
       "   Stars                                            Reviews  count_sent  \\\n",
       "0      5  Great job, Wyndham Capital! Each person was pr...           1   \n",
       "1      5  Matthew Richardson is professional and helpful...           1   \n",
       "2      5  We had a past experience with Wyndham Mortgage...           1   \n",
       "3      5  We have been dealing with Brad Thomka from the...           1   \n",
       "4      5  I can't express how grateful I am for the supp...           1   \n",
       "\n",
       "   count_word  count_unique_word  count_letters  word_density  \\\n",
       "0          19                 19            126      6.300000   \n",
       "1          25                 23            159      6.115385   \n",
       "2          79                 64            462      5.775000   \n",
       "3         108                 78            605      5.550459   \n",
       "4          59                 47            341      5.683333   \n",
       "\n",
       "   count_punctuations  count_words_upper  count_words_lower  \\\n",
       "0                   4                  0                 14   \n",
       "1                   4                  0                 20   \n",
       "2                   8                  0                 64   \n",
       "3                   9                  0                 88   \n",
       "4                   6                  3                 50   \n",
       "\n",
       "   count_words_title  mean_word_len  numeric  alphanumeric  alphabetetics  \\\n",
       "0                  5       5.684211        0            15             15   \n",
       "1                  5       5.400000        0            21             21   \n",
       "2                 14       4.860759        0            73             73   \n",
       "3                 18       4.611111        0           101            101   \n",
       "4                  9       4.796610        0            53             53   \n",
       "\n",
       "   Spaces  words_ends_with_et  words_start_with_no  \\\n",
       "0       0                   0                    0   \n",
       "1       0                   0                    0   \n",
       "2       0                   0                    1   \n",
       "3       0                   0                    1   \n",
       "4       0                   0                    1   \n",
       "\n",
       "                                          wordcounts  \n",
       "0  {'and': 1, 'our': 1, 'Wyndham': 1, 'you!': 1, ...  \n",
       "1  {'and': 1, 'mortgage.': 1, 'our': 1, 'Matthew!...  \n",
       "2  {'&': 1, 'and': 4, 'on': 1, 'We': 2, 'found': ...  \n",
       "3  {'on': 1, 'of': 1, 'found': 1, 'team': 2, 'mil...  \n",
       "4  {'and': 4, 'purchase!': 1, 'way.': 1, 'home': ...  "
      ]
     },
     "execution_count": 8,
     "metadata": {},
     "output_type": "execute_result"
    }
   ],
   "source": [
    "df.head()"
   ]
  },
  {
   "cell_type": "markdown",
   "metadata": {},
   "source": [
    "## Sentiment Analysis"
   ]
  },
  {
   "cell_type": "code",
   "execution_count": 9,
   "metadata": {},
   "outputs": [],
   "source": [
    "df['Sentiment'] = df[\"Reviews\"].apply(lambda x: TextBlob(x).sentiment.polarity)"
   ]
  },
  {
   "cell_type": "code",
   "execution_count": 10,
   "metadata": {},
   "outputs": [],
   "source": [
    "df  = df[['Stars','Reviews','Sentiment']]"
   ]
  },
  {
   "cell_type": "code",
   "execution_count": 11,
   "metadata": {},
   "outputs": [
    {
     "name": "stderr",
     "output_type": "stream",
     "text": [
      "C:\\ProgramData\\Anaconda3\\lib\\site-packages\\ipykernel_launcher.py:1: SettingWithCopyWarning: \n",
      "A value is trying to be set on a copy of a slice from a DataFrame.\n",
      "Try using .loc[row_indexer,col_indexer] = value instead\n",
      "\n",
      "See the caveats in the documentation: http://pandas.pydata.org/pandas-docs/stable/indexing.html#indexing-view-versus-copy\n",
      "  \"\"\"Entry point for launching an IPython kernel.\n"
     ]
    }
   ],
   "source": [
    "df['sentiment_cat'] = np.where(df.Sentiment > 0,'Positive', np.where(df.Sentiment == 0,'Neutral','Negative'))"
   ]
  },
  {
   "cell_type": "code",
   "execution_count": 12,
   "metadata": {},
   "outputs": [
    {
     "data": {
      "text/html": [
       "<div>\n",
       "<style scoped>\n",
       "    .dataframe tbody tr th:only-of-type {\n",
       "        vertical-align: middle;\n",
       "    }\n",
       "\n",
       "    .dataframe tbody tr th {\n",
       "        vertical-align: top;\n",
       "    }\n",
       "\n",
       "    .dataframe thead th {\n",
       "        text-align: right;\n",
       "    }\n",
       "</style>\n",
       "<table border=\"1\" class=\"dataframe\">\n",
       "  <thead>\n",
       "    <tr style=\"text-align: right;\">\n",
       "      <th></th>\n",
       "      <th>Stars</th>\n",
       "      <th>Reviews</th>\n",
       "      <th>Sentiment</th>\n",
       "      <th>sentiment_cat</th>\n",
       "    </tr>\n",
       "  </thead>\n",
       "  <tbody>\n",
       "    <tr>\n",
       "      <th>0</th>\n",
       "      <td>5</td>\n",
       "      <td>Great job, Wyndham Capital! Each person was pr...</td>\n",
       "      <td>0.533333</td>\n",
       "      <td>Positive</td>\n",
       "    </tr>\n",
       "    <tr>\n",
       "      <th>1</th>\n",
       "      <td>5</td>\n",
       "      <td>Matthew Richardson is professional and helpful...</td>\n",
       "      <td>0.453333</td>\n",
       "      <td>Positive</td>\n",
       "    </tr>\n",
       "    <tr>\n",
       "      <th>2</th>\n",
       "      <td>5</td>\n",
       "      <td>We had a past experience with Wyndham Mortgage...</td>\n",
       "      <td>-0.033231</td>\n",
       "      <td>Negative</td>\n",
       "    </tr>\n",
       "    <tr>\n",
       "      <th>3</th>\n",
       "      <td>5</td>\n",
       "      <td>We have been dealing with Brad Thomka from the...</td>\n",
       "      <td>0.093740</td>\n",
       "      <td>Positive</td>\n",
       "    </tr>\n",
       "    <tr>\n",
       "      <th>4</th>\n",
       "      <td>5</td>\n",
       "      <td>I can't express how grateful I am for the supp...</td>\n",
       "      <td>0.125000</td>\n",
       "      <td>Positive</td>\n",
       "    </tr>\n",
       "  </tbody>\n",
       "</table>\n",
       "</div>"
      ],
      "text/plain": [
       "   Stars                                            Reviews  Sentiment  \\\n",
       "0      5  Great job, Wyndham Capital! Each person was pr...   0.533333   \n",
       "1      5  Matthew Richardson is professional and helpful...   0.453333   \n",
       "2      5  We had a past experience with Wyndham Mortgage...  -0.033231   \n",
       "3      5  We have been dealing with Brad Thomka from the...   0.093740   \n",
       "4      5  I can't express how grateful I am for the supp...   0.125000   \n",
       "\n",
       "  sentiment_cat  \n",
       "0      Positive  \n",
       "1      Positive  \n",
       "2      Negative  \n",
       "3      Positive  \n",
       "4      Positive  "
      ]
     },
     "execution_count": 12,
     "metadata": {},
     "output_type": "execute_result"
    }
   ],
   "source": [
    "df.head()"
   ]
  },
  {
   "cell_type": "code",
   "execution_count": 13,
   "metadata": {},
   "outputs": [],
   "source": [
    "#Splitting data\n",
    "X = df.Reviews\n",
    "y = df.Stars\n",
    "\n",
    "# split the new DataFrame into training and testing sets\n",
    "X_train, X_test, y_train, y_test = train_test_split(X, y, random_state = 123)"
   ]
  },
  {
   "cell_type": "code",
   "execution_count": 14,
   "metadata": {},
   "outputs": [],
   "source": [
    "#UDF to clean the text\n",
    "import string\n",
    "stop = set(nltk.corpus.stopwords.words('english'))\n",
    "def clean_text(text):\n",
    "    text = text.lower()\n",
    "    text = text.strip()\n",
    "    text = re.sub(r' +', ' ', text)\n",
    "    text = re.sub(r\"[-()\\\"#/@;:{}`+=~|.!?,'0-9]\", \"\", text)   \n",
    "    return(text)"
   ]
  },
  {
   "cell_type": "code",
   "execution_count": 15,
   "metadata": {},
   "outputs": [],
   "source": [
    "def pre_process(text):\n",
    "    text = text.str.replace('/','')                          \n",
    "    text = text.apply(lambda x: \" \".join(x for x in x.split() if x not in stop))\n",
    "    text = text.apply(lambda x: \" \".join([Word(word).lemmatize() for word in x.split()]))\n",
    "    return(text)"
   ]
  },
  {
   "cell_type": "code",
   "execution_count": 16,
   "metadata": {},
   "outputs": [],
   "source": [
    "X_train = X_train.apply(lambda x: clean_text(x))\n",
    "X_test = X_test.apply(lambda x: clean_text(x))"
   ]
  },
  {
   "cell_type": "code",
   "execution_count": 17,
   "metadata": {},
   "outputs": [],
   "source": [
    "X_train = pre_process(X_train)\n",
    "X_test = pre_process(X_test)"
   ]
  },
  {
   "cell_type": "code",
   "execution_count": 18,
   "metadata": {},
   "outputs": [],
   "source": [
    "#Making a copy of X train and test for Topic modelling\n",
    "lda_Train = X_train \n",
    "lda_Test = X_test"
   ]
  },
  {
   "cell_type": "code",
   "execution_count": 19,
   "metadata": {},
   "outputs": [],
   "source": [
    "#Creating a frequency DTM\n",
    "count_vect = CountVectorizer(analyzer='word', token_pattern=r'\\w{1,}', \n",
    "                             ngram_range=(1, 1 ), \n",
    "                             min_df=5, \n",
    "                             encoding='latin-1' ,\n",
    "                             max_features=800)\n",
    "xtrain_count = count_vect.fit_transform(X_train)\n",
    "X_test_count = count_vect.transform(X_test)"
   ]
  },
  {
   "cell_type": "code",
   "execution_count": 20,
   "metadata": {},
   "outputs": [],
   "source": [
    "X_train_TM = xtrain_count \n",
    "X_test_TM = X_test_count"
   ]
  },
  {
   "cell_type": "code",
   "execution_count": 21,
   "metadata": {},
   "outputs": [],
   "source": [
    "dtm = pd.DataFrame(xtrain_count.toarray())"
   ]
  },
  {
   "cell_type": "code",
   "execution_count": 22,
   "metadata": {},
   "outputs": [],
   "source": [
    "#Adding columns to DTM\n",
    "dtm.columns = count_vect.get_feature_names()"
   ]
  },
  {
   "cell_type": "code",
   "execution_count": 23,
   "metadata": {},
   "outputs": [
    {
     "data": {
      "text/html": [
       "<div>\n",
       "<style scoped>\n",
       "    .dataframe tbody tr th:only-of-type {\n",
       "        vertical-align: middle;\n",
       "    }\n",
       "\n",
       "    .dataframe tbody tr th {\n",
       "        vertical-align: top;\n",
       "    }\n",
       "\n",
       "    .dataframe thead th {\n",
       "        text-align: right;\n",
       "    }\n",
       "</style>\n",
       "<table border=\"1\" class=\"dataframe\">\n",
       "  <thead>\n",
       "    <tr style=\"text-align: right;\">\n",
       "      <th></th>\n",
       "      <th>aaron</th>\n",
       "      <th>able</th>\n",
       "      <th>absolutely</th>\n",
       "      <th>accept</th>\n",
       "      <th>accommodating</th>\n",
       "      <th>account</th>\n",
       "      <th>accurate</th>\n",
       "      <th>across</th>\n",
       "      <th>adam</th>\n",
       "      <th>adan</th>\n",
       "      <th>...</th>\n",
       "      <th>work</th>\n",
       "      <th>worked</th>\n",
       "      <th>working</th>\n",
       "      <th>worth</th>\n",
       "      <th>would</th>\n",
       "      <th>wouldnt</th>\n",
       "      <th>wrong</th>\n",
       "      <th>wyndham</th>\n",
       "      <th>year</th>\n",
       "      <th>yet</th>\n",
       "    </tr>\n",
       "  </thead>\n",
       "  <tbody>\n",
       "    <tr>\n",
       "      <th>0</th>\n",
       "      <td>0</td>\n",
       "      <td>1</td>\n",
       "      <td>0</td>\n",
       "      <td>1</td>\n",
       "      <td>0</td>\n",
       "      <td>0</td>\n",
       "      <td>0</td>\n",
       "      <td>1</td>\n",
       "      <td>0</td>\n",
       "      <td>0</td>\n",
       "      <td>...</td>\n",
       "      <td>3</td>\n",
       "      <td>0</td>\n",
       "      <td>1</td>\n",
       "      <td>0</td>\n",
       "      <td>1</td>\n",
       "      <td>0</td>\n",
       "      <td>0</td>\n",
       "      <td>0</td>\n",
       "      <td>0</td>\n",
       "      <td>0</td>\n",
       "    </tr>\n",
       "    <tr>\n",
       "      <th>1</th>\n",
       "      <td>0</td>\n",
       "      <td>0</td>\n",
       "      <td>0</td>\n",
       "      <td>0</td>\n",
       "      <td>0</td>\n",
       "      <td>0</td>\n",
       "      <td>0</td>\n",
       "      <td>1</td>\n",
       "      <td>0</td>\n",
       "      <td>0</td>\n",
       "      <td>...</td>\n",
       "      <td>0</td>\n",
       "      <td>0</td>\n",
       "      <td>0</td>\n",
       "      <td>0</td>\n",
       "      <td>0</td>\n",
       "      <td>0</td>\n",
       "      <td>0</td>\n",
       "      <td>0</td>\n",
       "      <td>1</td>\n",
       "      <td>0</td>\n",
       "    </tr>\n",
       "    <tr>\n",
       "      <th>2</th>\n",
       "      <td>0</td>\n",
       "      <td>0</td>\n",
       "      <td>0</td>\n",
       "      <td>0</td>\n",
       "      <td>0</td>\n",
       "      <td>0</td>\n",
       "      <td>0</td>\n",
       "      <td>0</td>\n",
       "      <td>0</td>\n",
       "      <td>0</td>\n",
       "      <td>...</td>\n",
       "      <td>0</td>\n",
       "      <td>1</td>\n",
       "      <td>0</td>\n",
       "      <td>0</td>\n",
       "      <td>0</td>\n",
       "      <td>0</td>\n",
       "      <td>0</td>\n",
       "      <td>0</td>\n",
       "      <td>0</td>\n",
       "      <td>0</td>\n",
       "    </tr>\n",
       "    <tr>\n",
       "      <th>3</th>\n",
       "      <td>0</td>\n",
       "      <td>1</td>\n",
       "      <td>0</td>\n",
       "      <td>0</td>\n",
       "      <td>0</td>\n",
       "      <td>0</td>\n",
       "      <td>0</td>\n",
       "      <td>0</td>\n",
       "      <td>0</td>\n",
       "      <td>0</td>\n",
       "      <td>...</td>\n",
       "      <td>1</td>\n",
       "      <td>0</td>\n",
       "      <td>0</td>\n",
       "      <td>0</td>\n",
       "      <td>0</td>\n",
       "      <td>0</td>\n",
       "      <td>0</td>\n",
       "      <td>0</td>\n",
       "      <td>0</td>\n",
       "      <td>0</td>\n",
       "    </tr>\n",
       "    <tr>\n",
       "      <th>4</th>\n",
       "      <td>0</td>\n",
       "      <td>0</td>\n",
       "      <td>0</td>\n",
       "      <td>0</td>\n",
       "      <td>0</td>\n",
       "      <td>0</td>\n",
       "      <td>0</td>\n",
       "      <td>0</td>\n",
       "      <td>0</td>\n",
       "      <td>0</td>\n",
       "      <td>...</td>\n",
       "      <td>1</td>\n",
       "      <td>1</td>\n",
       "      <td>0</td>\n",
       "      <td>0</td>\n",
       "      <td>0</td>\n",
       "      <td>0</td>\n",
       "      <td>0</td>\n",
       "      <td>0</td>\n",
       "      <td>0</td>\n",
       "      <td>0</td>\n",
       "    </tr>\n",
       "  </tbody>\n",
       "</table>\n",
       "<p>5 rows × 583 columns</p>\n",
       "</div>"
      ],
      "text/plain": [
       "   aaron  able  absolutely  accept  accommodating  account  accurate  across  \\\n",
       "0      0     1           0       1              0        0         0       1   \n",
       "1      0     0           0       0              0        0         0       1   \n",
       "2      0     0           0       0              0        0         0       0   \n",
       "3      0     1           0       0              0        0         0       0   \n",
       "4      0     0           0       0              0        0         0       0   \n",
       "\n",
       "   adam  adan  ...  work  worked  working  worth  would  wouldnt  wrong  \\\n",
       "0     0     0  ...     3       0        1      0      1        0      0   \n",
       "1     0     0  ...     0       0        0      0      0        0      0   \n",
       "2     0     0  ...     0       1        0      0      0        0      0   \n",
       "3     0     0  ...     1       0        0      0      0        0      0   \n",
       "4     0     0  ...     1       1        0      0      0        0      0   \n",
       "\n",
       "   wyndham  year  yet  \n",
       "0        0     0    0  \n",
       "1        0     1    0  \n",
       "2        0     0    0  \n",
       "3        0     0    0  \n",
       "4        0     0    0  \n",
       "\n",
       "[5 rows x 583 columns]"
      ]
     },
     "execution_count": 23,
     "metadata": {},
     "output_type": "execute_result"
    }
   ],
   "source": [
    "dtm.head()"
   ]
  },
  {
   "cell_type": "markdown",
   "metadata": {},
   "source": [
    "## Word Cloud and Bar Graph"
   ]
  },
  {
   "cell_type": "code",
   "execution_count": 24,
   "metadata": {},
   "outputs": [],
   "source": [
    "word_freq = pd.DataFrame(dtm.apply(sum).head(20), columns=['freq'])\n",
    "word_freq.sort_values('freq', ascending=False, inplace=True)"
   ]
  },
  {
   "cell_type": "code",
   "execution_count": 25,
   "metadata": {},
   "outputs": [
    {
     "data": {
      "text/plain": [
       "<matplotlib.axes._subplots.AxesSubplot at 0xf9b06cdb38>"
      ]
     },
     "execution_count": 25,
     "metadata": {},
     "output_type": "execute_result"
    },
    {
     "data": {
      "image/png": "[encoded data removed]",
      "text/plain": [
       "<Figure size 432x288 with 1 Axes>"
      ]
     },
     "metadata": {
      "needs_background": "light"
     },
     "output_type": "display_data"
    }
   ],
   "source": [
    "word_freq.plot(kind='bar')"
   ]
  },
  {
   "cell_type": "code",
   "execution_count": 26,
   "metadata": {},
   "outputs": [
    {
     "data": {
      "image/png": "[encoded data removed]",
      "text/plain": [
       "<Figure size 14400x3600 with 1 Axes>"
      ]
     },
     "metadata": {
      "needs_background": "light"
     },
     "output_type": "display_data"
    }
   ],
   "source": [
    "#Generating word clouds\n",
    "word_freq = dict(dtm.apply(sum))\n",
    "wordcloud = WordCloud(background_color='black', stopwords=stop)\n",
    "\n",
    "wordcloud = wordcloud.generate_from_frequencies(word_freq)\n",
    "fig = plt.figure(1, figsize=(200, 50))\n",
    "plt.axis('off')\n",
    "plt.imshow(wordcloud)\n",
    "plt.show()"
   ]
  },
  {
   "cell_type": "markdown",
   "metadata": {},
   "source": [
    "## Classification"
   ]
  },
  {
   "cell_type": "code",
   "execution_count": 27,
   "metadata": {},
   "outputs": [
    {
     "data": {
      "text/plain": [
       "(array([1, 5], dtype=int64), array([ 70, 308], dtype=int64))"
      ]
     },
     "execution_count": 27,
     "metadata": {},
     "output_type": "execute_result"
    }
   ],
   "source": [
    "#Checking if the y variable is balanced\n",
    "np.unique(y_train,return_counts=True)"
   ]
  },
  {
   "cell_type": "code",
   "execution_count": 28,
   "metadata": {},
   "outputs": [
    {
     "data": {
      "text/plain": [
       "(array([1, 5], dtype=int64), array([ 25, 102], dtype=int64))"
      ]
     },
     "execution_count": 28,
     "metadata": {},
     "output_type": "execute_result"
    }
   ],
   "source": [
    "#Checking if the y variable is balanced\n",
    "np.unique(y_test,return_counts=True)"
   ]
  },
  {
   "cell_type": "code",
   "execution_count": 29,
   "metadata": {},
   "outputs": [
    {
     "name": "stdout",
     "output_type": "stream",
     "text": [
      "(378,)\n",
      "(127,)\n",
      "(378,)\n",
      "(127,)\n"
     ]
    }
   ],
   "source": [
    "print(X_train.shape)\n",
    "print(X_test.shape)\n",
    "print(y_train.shape)\n",
    "print(y_test.shape)"
   ]
  },
  {
   "cell_type": "code",
   "execution_count": 30,
   "metadata": {},
   "outputs": [],
   "source": [
    "#Creating a frequency DTM\n",
    "count_vect = CountVectorizer(analyzer='word', token_pattern=r'\\w{1,}', \n",
    "                             ngram_range=(1, 1 ), \n",
    "                             min_df=5, \n",
    "                             encoding='latin-1' ,\n",
    "                             max_features=800)\n",
    "xtrain_count = count_vect.fit_transform(X_train)\n",
    "X_test_count = count_vect.transform(X_test)"
   ]
  },
  {
   "cell_type": "markdown",
   "metadata": {},
   "source": [
    "## We need to perform over or under sampling to make the variable balanced. In this case, i went with over sampling of the lower class."
   ]
  },
  {
   "cell_type": "code",
   "execution_count": 31,
   "metadata": {},
   "outputs": [],
   "source": [
    "#Handling imbalance data for train\n",
    "random_sample = RandomOverSampler(random_state = 111)\n",
    "X_train,y_train = random_sample.fit_sample(xtrain_count,y_train)"
   ]
  },
  {
   "cell_type": "code",
   "execution_count": 32,
   "metadata": {},
   "outputs": [
    {
     "data": {
      "text/plain": [
       "(array([1, 5], dtype=int64), array([308, 308], dtype=int64))"
      ]
     },
     "execution_count": 32,
     "metadata": {},
     "output_type": "execute_result"
    }
   ],
   "source": [
    "np.unique(y_train,return_counts=True)"
   ]
  },
  {
   "cell_type": "code",
   "execution_count": 33,
   "metadata": {},
   "outputs": [],
   "source": [
    "#Handling imbalance data for test\n",
    "random_sample = RandomOverSampler(random_state = 1137)\n",
    "X_test,y_test = random_sample.fit_sample(X_test_count,y_test)"
   ]
  },
  {
   "cell_type": "code",
   "execution_count": 34,
   "metadata": {},
   "outputs": [
    {
     "data": {
      "text/plain": [
       "(array([1, 5], dtype=int64), array([102, 102], dtype=int64))"
      ]
     },
     "execution_count": 34,
     "metadata": {},
     "output_type": "execute_result"
    }
   ],
   "source": [
    "np.unique(y_test,return_counts=True)"
   ]
  },
  {
   "cell_type": "code",
   "execution_count": 35,
   "metadata": {},
   "outputs": [
    {
     "data": {
      "text/plain": [
       "LogisticRegression()"
      ]
     },
     "execution_count": 35,
     "metadata": {},
     "output_type": "execute_result"
    }
   ],
   "source": [
    "#Classification using Logistic Regression\n",
    "logistic_reg = LogisticRegression()\n",
    "logistic_reg.fit(X_train, y_train)"
   ]
  },
  {
   "cell_type": "code",
   "execution_count": 36,
   "metadata": {},
   "outputs": [
    {
     "data": {
      "text/plain": [
       "0.9983766233766234"
      ]
     },
     "execution_count": 36,
     "metadata": {},
     "output_type": "execute_result"
    }
   ],
   "source": [
    "#Accuracy on train data\n",
    "logistic_reg.score(X_train, y_train)"
   ]
  },
  {
   "cell_type": "code",
   "execution_count": 37,
   "metadata": {},
   "outputs": [
    {
     "name": "stdout",
     "output_type": "stream",
     "text": [
      "Accuracy using Logistic Regression is 0.9068627450980392\n"
     ]
    }
   ],
   "source": [
    "#Predictions on test data\n",
    "y_pred_class = logistic_reg.predict(X_test)\n",
    "print('Accuracy using Logistic Regression is',metrics.accuracy_score(y_test, y_pred_class))"
   ]
  },
  {
   "cell_type": "code",
   "execution_count": 38,
   "metadata": {},
   "outputs": [
    {
     "name": "stdout",
     "output_type": "stream",
     "text": [
      "              precision    recall  f1-score   support\n",
      "\n",
      "           1       0.99      0.82      0.90       102\n",
      "           5       0.85      0.99      0.91       102\n",
      "\n",
      "    accuracy                           0.91       204\n",
      "   macro avg       0.92      0.91      0.91       204\n",
      "weighted avg       0.92      0.91      0.91       204\n",
      "\n"
     ]
    }
   ],
   "source": [
    "#Good ness of fit metrics based on categorical predicted output for train & test\n",
    "print(metrics.classification_report(y_test, y_pred_class))"
   ]
  },
  {
   "cell_type": "code",
   "execution_count": 41,
   "metadata": {},
   "outputs": [
    {
     "data": {
      "text/plain": [
       "Text(0.5, 16.0, 'Predicted Class')"
      ]
     },
     "execution_count": 41,
     "metadata": {},
     "output_type": "execute_result"
    },
    {
     "data": {
      "image/png": "[encoded data removed]",
      "text/plain": [
       "<Figure size 432x288 with 2 Axes>"
      ]
     },
     "metadata": {
      "needs_background": "light"
     },
     "output_type": "display_data"
    }
   ],
   "source": [
    "#Confusion matrix\n",
    "final_cm = metrics.confusion_matrix(y_pred_class,y_test)\n",
    "sns.heatmap(final_cm,annot = True, cmap = 'Reds',fmt = 'd')\n",
    "plt.ylabel('True Class')\n",
    "plt.xlabel('Predicted Class')"
   ]
  },
  {
   "cell_type": "code",
   "execution_count": 42,
   "metadata": {},
   "outputs": [],
   "source": [
    "#using XGB Classifier\n",
    "#param_grid = {'n_estimators': [200,300,400,600],'learning_rate' : [0.01,0.04,0.07,0.09,1]}\n",
    "#xgb_model = GridSearchCV(XGBClassifier(), param_grid, cv = 11, n_jobs = -1,verbose = 1, scoring='accuracy')\n",
    "#xgb_model.fit(X_train, y_train)"
   ]
  },
  {
   "cell_type": "code",
   "execution_count": 43,
   "metadata": {},
   "outputs": [
    {
     "data": {
      "text/plain": [
       "XGBClassifier(learning_rate=0.5, n_estimators=400, n_jobs=-1, random_state=1137)"
      ]
     },
     "execution_count": 43,
     "metadata": {},
     "output_type": "execute_result"
    }
   ],
   "source": [
    "#Classification using XGB Classifier\n",
    "xgb_estimator = XGBClassifier(n_estimators=400,\n",
    "                         random_state = 1137,\n",
    "                        n_jobs=-1,learning_rate = 0.5)\n",
    "xgb_estimator.fit(X_train, y_train)"
   ]
  },
  {
   "cell_type": "code",
   "execution_count": 44,
   "metadata": {},
   "outputs": [
    {
     "data": {
      "text/plain": [
       "0.9983766233766234"
      ]
     },
     "execution_count": 44,
     "metadata": {},
     "output_type": "execute_result"
    }
   ],
   "source": [
    "#Accuracy on train data\n",
    "xgb_estimator.score(X_train, y_train)"
   ]
  },
  {
   "cell_type": "code",
   "execution_count": 45,
   "metadata": {},
   "outputs": [
    {
     "name": "stdout",
     "output_type": "stream",
     "text": [
      "Accuracy using XGB Classifier is 0.803921568627451\n"
     ]
    }
   ],
   "source": [
    "#Predicting on test data\n",
    "y_pred_class = xgb_estimator.predict(X_test)\n",
    "print('Accuracy using XGB Classifier is',metrics.accuracy_score(y_test, y_pred_class))"
   ]
  },
  {
   "cell_type": "code",
   "execution_count": 46,
   "metadata": {},
   "outputs": [
    {
     "name": "stdout",
     "output_type": "stream",
     "text": [
      "              precision    recall  f1-score   support\n",
      "\n",
      "           1       0.93      0.66      0.77       102\n",
      "           5       0.73      0.95      0.83       102\n",
      "\n",
      "    accuracy                           0.80       204\n",
      "   macro avg       0.83      0.80      0.80       204\n",
      "weighted avg       0.83      0.80      0.80       204\n",
      "\n"
     ]
    }
   ],
   "source": [
    "#Good ness of fit metrics based on categorical predicted output for train & test\n",
    "print(metrics.classification_report(y_test, y_pred_class))"
   ]
  },
  {
   "cell_type": "code",
   "execution_count": 48,
   "metadata": {},
   "outputs": [
    {
     "data": {
      "text/plain": [
       "Text(0.5, 16.0, 'Predicted Class')"
      ]
     },
     "execution_count": 48,
     "metadata": {},
     "output_type": "execute_result"
    },
    {
     "data": {
      "image/png": "[encoded data removed]",
      "text/plain": [
       "<Figure size 432x288 with 2 Axes>"
      ]
     },
     "metadata": {
      "needs_background": "light"
     },
     "output_type": "display_data"
    }
   ],
   "source": [
    "#Confusion matrix\n",
    "final_cm = metrics.confusion_matrix(y_pred_class,y_test)\n",
    "sns.heatmap(final_cm,annot = True, cmap = 'Blues',fmt = 'd')\n",
    "plt.ylabel('True Class')\n",
    "plt.xlabel('Predicted Class')"
   ]
  },
  {
   "cell_type": "code",
   "execution_count": 49,
   "metadata": {},
   "outputs": [],
   "source": [
    "#Classification using RF Classifier and gridsearch\n",
    "param_grid = {'max_depth': [5,6,7,8,9,10], 'n_estimators':[50,100,200,300,400,500,700], 'max_features':[4,5,6,7,8]}\n",
    "RF_GCV_model = GridSearchCV(ensemble.RandomForestClassifier(), param_grid, cv = 10,n_jobs = -1)\n",
    "RF_GCV_model = RF_GCV_model.fit(X_train, y_train)"
   ]
  },
  {
   "cell_type": "code",
   "execution_count": 50,
   "metadata": {},
   "outputs": [
    {
     "data": {
      "text/plain": [
       "{'max_depth': 10, 'max_features': 7, 'n_estimators': 400}"
      ]
     },
     "execution_count": 50,
     "metadata": {},
     "output_type": "execute_result"
    }
   ],
   "source": [
    "RF_GCV_model.best_params_"
   ]
  },
  {
   "cell_type": "code",
   "execution_count": 55,
   "metadata": {},
   "outputs": [],
   "source": [
    "rf_all_estimator = ensemble.RandomForestClassifier(n_estimators = 400,\n",
    "                                          random_state = 42,\n",
    "                                          max_depth = 10,\n",
    "                                          max_features = 7,\n",
    "                                          n_jobs = -1)\n",
    "rf_all_estimator = rf_all_estimator.fit(X_train, y_train)"
   ]
  },
  {
   "cell_type": "code",
   "execution_count": 56,
   "metadata": {},
   "outputs": [
    {
     "data": {
      "text/plain": [
       "0.961038961038961"
      ]
     },
     "execution_count": 56,
     "metadata": {},
     "output_type": "execute_result"
    }
   ],
   "source": [
    "#Accuracy on train data\n",
    "rf_all_estimator.score(X_train, y_train)"
   ]
  },
  {
   "cell_type": "code",
   "execution_count": 57,
   "metadata": {},
   "outputs": [
    {
     "name": "stdout",
     "output_type": "stream",
     "text": [
      "Accuracy using RF Classifier is 0.8137254901960784\n"
     ]
    }
   ],
   "source": [
    "#Predicting on test data\n",
    "y_pred_class = rf_all_estimator.predict(X_test)\n",
    "print('Accuracy using RF Classifier is',metrics.accuracy_score(y_test, y_pred_class))"
   ]
  },
  {
   "cell_type": "code",
   "execution_count": 58,
   "metadata": {},
   "outputs": [
    {
     "name": "stdout",
     "output_type": "stream",
     "text": [
      "              precision    recall  f1-score   support\n",
      "\n",
      "           1       0.97      0.65      0.78       102\n",
      "           5       0.74      0.98      0.84       102\n",
      "\n",
      "    accuracy                           0.81       204\n",
      "   macro avg       0.85      0.81      0.81       204\n",
      "weighted avg       0.85      0.81      0.81       204\n",
      "\n"
     ]
    }
   ],
   "source": [
    "#Good ness of fit metrics based on categorical predicted output for train & test\n",
    "print(metrics.classification_report(y_test, y_pred_class))"
   ]
  },
  {
   "cell_type": "code",
   "execution_count": 60,
   "metadata": {},
   "outputs": [
    {
     "data": {
      "text/plain": [
       "Text(0.5, 16.0, 'Predicted Class')"
      ]
     },
     "execution_count": 60,
     "metadata": {},
     "output_type": "execute_result"
    },
    {
     "data": {
      "image/png": "[encoded data removed]",
      "text/plain": [
       "<Figure size 432x288 with 2 Axes>"
      ]
     },
     "metadata": {
      "needs_background": "light"
     },
     "output_type": "display_data"
    }
   ],
   "source": [
    "#Confusion matrix\n",
    "final_cm = metrics.confusion_matrix(y_pred_class,y_test)\n",
    "sns.heatmap(final_cm,annot = True, cmap = 'Oranges',fmt = 'd')\n",
    "plt.ylabel('True Class')\n",
    "plt.xlabel('Predicted Class')"
   ]
  },
  {
   "cell_type": "code",
   "execution_count": 61,
   "metadata": {},
   "outputs": [
    {
     "data": {
      "text/plain": [
       "MultinomialNB()"
      ]
     },
     "execution_count": 61,
     "metadata": {},
     "output_type": "execute_result"
    }
   ],
   "source": [
    "#Classification using Naive Bayes\n",
    "nb_clf = naive_bayes.MultinomialNB()\n",
    "nb_clf.fit(X_train, y_train)"
   ]
  },
  {
   "cell_type": "code",
   "execution_count": 62,
   "metadata": {},
   "outputs": [
    {
     "data": {
      "text/plain": [
       "0.9707792207792207"
      ]
     },
     "execution_count": 62,
     "metadata": {},
     "output_type": "execute_result"
    }
   ],
   "source": [
    "#Accuracy on train data\n",
    "nb_clf.score(X_train, y_train)"
   ]
  },
  {
   "cell_type": "code",
   "execution_count": 63,
   "metadata": {},
   "outputs": [
    {
     "name": "stdout",
     "output_type": "stream",
     "text": [
      "Accuracy using Naive Bayes Classifier is 0.9362745098039216\n"
     ]
    }
   ],
   "source": [
    "#Predicting on test data\n",
    "y_pred_class = nb_clf.predict(X_test)\n",
    "print('Accuracy using Naive Bayes Classifier is',metrics.accuracy_score(y_test, y_pred_class))"
   ]
  },
  {
   "cell_type": "code",
   "execution_count": 64,
   "metadata": {},
   "outputs": [
    {
     "name": "stdout",
     "output_type": "stream",
     "text": [
      "              precision    recall  f1-score   support\n",
      "\n",
      "           1       0.97      0.90      0.93       102\n",
      "           5       0.91      0.97      0.94       102\n",
      "\n",
      "    accuracy                           0.94       204\n",
      "   macro avg       0.94      0.94      0.94       204\n",
      "weighted avg       0.94      0.94      0.94       204\n",
      "\n"
     ]
    }
   ],
   "source": [
    "#Good ness of fit metrics based on categorical predicted output for train & test\n",
    "print(metrics.classification_report(y_test, y_pred_class))"
   ]
  },
  {
   "cell_type": "code",
   "execution_count": 66,
   "metadata": {},
   "outputs": [
    {
     "data": {
      "text/plain": [
       "Text(0.5, 16.0, 'Predicted Class')"
      ]
     },
     "execution_count": 66,
     "metadata": {},
     "output_type": "execute_result"
    },
    {
     "data": {
      "image/png": "[encoded data removed]",
      "text/plain": [
       "<Figure size 432x288 with 2 Axes>"
      ]
     },
     "metadata": {
      "needs_background": "light"
     },
     "output_type": "display_data"
    }
   ],
   "source": [
    "#Confusion matrix\n",
    "final_cm = metrics.confusion_matrix(y_pred_class,y_test)\n",
    "sns.heatmap(final_cm,annot = True, cmap = 'Greens',fmt = 'd')\n",
    "plt.ylabel('True Class')\n",
    "plt.xlabel('Predicted Class')"
   ]
  },
  {
   "cell_type": "markdown",
   "metadata": {},
   "source": [
    "## Of all the above built classification models, Naive bayesian classification model gave me the best accuracy on the on test data of 93.6% and on train data it gave me 97% accuracy.So i would go ahead with naive bayes model for further classification  in the future."
   ]
  },
  {
   "cell_type": "markdown",
   "metadata": {},
   "source": [
    "# Topic Modeling "
   ]
  },
  {
   "cell_type": "code",
   "execution_count": 70,
   "metadata": {},
   "outputs": [],
   "source": [
    "#Importing Gensim\n",
    "import gensim\n",
    "from gensim import corpora"
   ]
  },
  {
   "cell_type": "code",
   "execution_count": 73,
   "metadata": {},
   "outputs": [],
   "source": [
    "X_train_tokens = [doc.split() for doc in lda_Train]"
   ]
  },
  {
   "cell_type": "code",
   "execution_count": 74,
   "metadata": {},
   "outputs": [],
   "source": [
    "dictionary = corpora.Dictionary(X_train_tokens)"
   ]
  },
  {
   "cell_type": "code",
   "execution_count": 75,
   "metadata": {},
   "outputs": [],
   "source": [
    "doc_term_matrix = [dictionary.doc2bow(doc) for doc in X_train_tokens]"
   ]
  },
  {
   "cell_type": "code",
   "execution_count": 76,
   "metadata": {},
   "outputs": [],
   "source": [
    "# Creating the object for LDA model using gensim library\n",
    "Lda = gensim.models.ldamodel.LdaModel"
   ]
  },
  {
   "cell_type": "code",
   "execution_count": 77,
   "metadata": {},
   "outputs": [],
   "source": [
    "# Running and Training LDA model on the document term matrix.\n",
    "ldamodel = Lda(doc_term_matrix, num_topics = 11, id2word = dictionary, passes = 1)"
   ]
  },
  {
   "cell_type": "code",
   "execution_count": null,
   "metadata": {},
   "outputs": [],
   "source": [
    "#print(ldamodel.print_topics(num_topics = 5, num_words = 10))"
   ]
  },
  {
   "cell_type": "code",
   "execution_count": null,
   "metadata": {},
   "outputs": [],
   "source": [
    "#for i in range(0,11):\n",
    "    #print('Topic',i)\n",
    "    #print(ldamodel.print_topic(i))"
   ]
  },
  {
   "cell_type": "code",
   "execution_count": 78,
   "metadata": {},
   "outputs": [],
   "source": [
    "topics = ldamodel.show_topics(formatted = False, num_words = 100)\n",
    "\n",
    "#for t in range(len(topics)):\n",
    "    #print(\"\\nTopic {}, top {} words:\".format(t,100))\n",
    "    #print(\" \".join([w[0] for w in topics[t][1]]))"
   ]
  },
  {
   "cell_type": "code",
   "execution_count": 79,
   "metadata": {},
   "outputs": [
    {
     "data": {
      "text/plain": [
       "array([[3.16455697e-04, 3.16455697e-04, 3.16455699e-04, ...,\n",
       "        3.16455698e-04, 3.16455697e-04, 3.16455698e-04],\n",
       "       [3.33333336e-03, 3.33333334e-03, 3.33333334e-03, ...,\n",
       "        3.33333334e-03, 3.33333339e-03, 3.33333335e-03],\n",
       "       [2.77777778e-03, 2.77777778e-03, 2.77777780e-03, ...,\n",
       "        2.77777778e-03, 2.77777778e-03, 2.77777779e-03],\n",
       "       ...,\n",
       "       [9.44117647e-01, 2.94117647e-03, 2.94117648e-03, ...,\n",
       "        2.94117647e-03, 2.94117647e-03, 2.94117648e-03],\n",
       "       [2.77777780e-03, 2.77777778e-03, 2.77777779e-03, ...,\n",
       "        2.77777779e-03, 2.77777785e-03, 2.77777782e-03],\n",
       "       [2.17391305e-03, 2.17391305e-03, 2.17391307e-03, ...,\n",
       "        2.17391310e-03, 2.17391305e-03, 2.17391305e-03]])"
      ]
     },
     "execution_count": 79,
     "metadata": {},
     "output_type": "execute_result"
    }
   ],
   "source": [
    "#Build LDA Model\n",
    "lda_model = decomposition.LatentDirichletAllocation(n_components = 20, max_iter = 10, learning_decay = 0.9,\n",
    "                                                    learning_method = 'online', random_state = 1137,\n",
    "                                                    batch_size = 128, evaluate_every = -1, n_jobs = -1)\n",
    "lda_model.fit_transform(X_train_TM)"
   ]
  },
  {
   "cell_type": "code",
   "execution_count": 80,
   "metadata": {},
   "outputs": [
    {
     "name": "stdout",
     "output_type": "stream",
     "text": [
      "Log Likelihood:  -76274.12448044417\n",
      "Perplexity:  861.1731865534172\n"
     ]
    }
   ],
   "source": [
    "# Log Likelyhood: Higher the better\n",
    "print(\"Log Likelihood: \", lda_model.score(X_train_TM))\n",
    "\n",
    "# Perplexity: Lower the better. Perplexity = exp(-1. * log-likelihood per word)\n",
    "print(\"Perplexity: \", lda_model.perplexity(X_train_TM))"
   ]
  },
  {
   "cell_type": "code",
   "execution_count": 81,
   "metadata": {},
   "outputs": [],
   "source": [
    "lda_model.n_components = 20"
   ]
  },
  {
   "cell_type": "code",
   "execution_count": 83,
   "metadata": {},
   "outputs": [
    {
     "data": {
      "text/html": [
       "<div>\n",
       "<style scoped>\n",
       "    .dataframe tbody tr th:only-of-type {\n",
       "        vertical-align: middle;\n",
       "    }\n",
       "\n",
       "    .dataframe tbody tr th {\n",
       "        vertical-align: top;\n",
       "    }\n",
       "\n",
       "    .dataframe thead th {\n",
       "        text-align: right;\n",
       "    }\n",
       "</style>\n",
       "<table border=\"1\" class=\"dataframe\">\n",
       "  <thead>\n",
       "    <tr style=\"text-align: right;\">\n",
       "      <th></th>\n",
       "      <th>Topic0</th>\n",
       "      <th>Topic1</th>\n",
       "      <th>Topic2</th>\n",
       "      <th>Topic3</th>\n",
       "      <th>Topic4</th>\n",
       "      <th>Topic5</th>\n",
       "      <th>Topic6</th>\n",
       "      <th>Topic7</th>\n",
       "      <th>Topic8</th>\n",
       "      <th>Topic9</th>\n",
       "      <th>...</th>\n",
       "      <th>Topic11</th>\n",
       "      <th>Topic12</th>\n",
       "      <th>Topic13</th>\n",
       "      <th>Topic14</th>\n",
       "      <th>Topic15</th>\n",
       "      <th>Topic16</th>\n",
       "      <th>Topic17</th>\n",
       "      <th>Topic18</th>\n",
       "      <th>Topic19</th>\n",
       "      <th>dominant_topic</th>\n",
       "    </tr>\n",
       "  </thead>\n",
       "  <tbody>\n",
       "    <tr>\n",
       "      <th>Doc0</th>\n",
       "      <td>0.0</td>\n",
       "      <td>0.0</td>\n",
       "      <td>0.0</td>\n",
       "      <td>0.0</td>\n",
       "      <td>0.0</td>\n",
       "      <td>0.0</td>\n",
       "      <td>0.0</td>\n",
       "      <td>0.0</td>\n",
       "      <td>0.0</td>\n",
       "      <td>0.0</td>\n",
       "      <td>...</td>\n",
       "      <td>0.0</td>\n",
       "      <td>0.0</td>\n",
       "      <td>0.0</td>\n",
       "      <td>0.29</td>\n",
       "      <td>0.0</td>\n",
       "      <td>0.70</td>\n",
       "      <td>0.0</td>\n",
       "      <td>0.0</td>\n",
       "      <td>0.0</td>\n",
       "      <td>16</td>\n",
       "    </tr>\n",
       "    <tr>\n",
       "      <th>Doc1</th>\n",
       "      <td>0.0</td>\n",
       "      <td>0.0</td>\n",
       "      <td>0.0</td>\n",
       "      <td>0.0</td>\n",
       "      <td>0.0</td>\n",
       "      <td>0.0</td>\n",
       "      <td>0.0</td>\n",
       "      <td>0.0</td>\n",
       "      <td>0.0</td>\n",
       "      <td>0.0</td>\n",
       "      <td>...</td>\n",
       "      <td>0.0</td>\n",
       "      <td>0.0</td>\n",
       "      <td>0.0</td>\n",
       "      <td>0.00</td>\n",
       "      <td>0.0</td>\n",
       "      <td>0.94</td>\n",
       "      <td>0.0</td>\n",
       "      <td>0.0</td>\n",
       "      <td>0.0</td>\n",
       "      <td>16</td>\n",
       "    </tr>\n",
       "    <tr>\n",
       "      <th>Doc2</th>\n",
       "      <td>0.0</td>\n",
       "      <td>0.0</td>\n",
       "      <td>0.0</td>\n",
       "      <td>0.0</td>\n",
       "      <td>0.0</td>\n",
       "      <td>0.0</td>\n",
       "      <td>0.0</td>\n",
       "      <td>0.0</td>\n",
       "      <td>0.0</td>\n",
       "      <td>0.0</td>\n",
       "      <td>...</td>\n",
       "      <td>0.0</td>\n",
       "      <td>0.0</td>\n",
       "      <td>0.0</td>\n",
       "      <td>0.00</td>\n",
       "      <td>0.0</td>\n",
       "      <td>0.95</td>\n",
       "      <td>0.0</td>\n",
       "      <td>0.0</td>\n",
       "      <td>0.0</td>\n",
       "      <td>16</td>\n",
       "    </tr>\n",
       "    <tr>\n",
       "      <th>Doc3</th>\n",
       "      <td>0.0</td>\n",
       "      <td>0.0</td>\n",
       "      <td>0.0</td>\n",
       "      <td>0.0</td>\n",
       "      <td>0.0</td>\n",
       "      <td>0.0</td>\n",
       "      <td>0.0</td>\n",
       "      <td>0.0</td>\n",
       "      <td>0.0</td>\n",
       "      <td>0.0</td>\n",
       "      <td>...</td>\n",
       "      <td>0.0</td>\n",
       "      <td>0.0</td>\n",
       "      <td>0.0</td>\n",
       "      <td>0.00</td>\n",
       "      <td>0.0</td>\n",
       "      <td>0.97</td>\n",
       "      <td>0.0</td>\n",
       "      <td>0.0</td>\n",
       "      <td>0.0</td>\n",
       "      <td>16</td>\n",
       "    </tr>\n",
       "    <tr>\n",
       "      <th>Doc4</th>\n",
       "      <td>0.0</td>\n",
       "      <td>0.0</td>\n",
       "      <td>0.0</td>\n",
       "      <td>0.0</td>\n",
       "      <td>0.0</td>\n",
       "      <td>0.0</td>\n",
       "      <td>0.0</td>\n",
       "      <td>0.0</td>\n",
       "      <td>0.0</td>\n",
       "      <td>0.0</td>\n",
       "      <td>...</td>\n",
       "      <td>0.0</td>\n",
       "      <td>0.0</td>\n",
       "      <td>0.0</td>\n",
       "      <td>0.97</td>\n",
       "      <td>0.0</td>\n",
       "      <td>0.00</td>\n",
       "      <td>0.0</td>\n",
       "      <td>0.0</td>\n",
       "      <td>0.0</td>\n",
       "      <td>14</td>\n",
       "    </tr>\n",
       "  </tbody>\n",
       "</table>\n",
       "<p>5 rows × 21 columns</p>\n",
       "</div>"
      ],
      "text/plain": [
       "      Topic0  Topic1  Topic2  Topic3  Topic4  Topic5  Topic6  Topic7  Topic8  \\\n",
       "Doc0     0.0     0.0     0.0     0.0     0.0     0.0     0.0     0.0     0.0   \n",
       "Doc1     0.0     0.0     0.0     0.0     0.0     0.0     0.0     0.0     0.0   \n",
       "Doc2     0.0     0.0     0.0     0.0     0.0     0.0     0.0     0.0     0.0   \n",
       "Doc3     0.0     0.0     0.0     0.0     0.0     0.0     0.0     0.0     0.0   \n",
       "Doc4     0.0     0.0     0.0     0.0     0.0     0.0     0.0     0.0     0.0   \n",
       "\n",
       "      Topic9  ...  Topic11  Topic12  Topic13  Topic14  Topic15  Topic16  \\\n",
       "Doc0     0.0  ...      0.0      0.0      0.0     0.29      0.0     0.70   \n",
       "Doc1     0.0  ...      0.0      0.0      0.0     0.00      0.0     0.94   \n",
       "Doc2     0.0  ...      0.0      0.0      0.0     0.00      0.0     0.95   \n",
       "Doc3     0.0  ...      0.0      0.0      0.0     0.00      0.0     0.97   \n",
       "Doc4     0.0  ...      0.0      0.0      0.0     0.97      0.0     0.00   \n",
       "\n",
       "      Topic17  Topic18  Topic19  dominant_topic  \n",
       "Doc0      0.0      0.0      0.0              16  \n",
       "Doc1      0.0      0.0      0.0              16  \n",
       "Doc2      0.0      0.0      0.0              16  \n",
       "Doc3      0.0      0.0      0.0              16  \n",
       "Doc4      0.0      0.0      0.0              14  \n",
       "\n",
       "[5 rows x 21 columns]"
      ]
     },
     "execution_count": 83,
     "metadata": {},
     "output_type": "execute_result"
    }
   ],
   "source": [
    "#Create Document - Topic Matrix\n",
    "lda_output = lda_model.transform(X_train_TM)\n",
    "\n",
    "#Column names\n",
    "topicnames = [\"Topic\" + str(i) for i in range(lda_model.n_components)]\n",
    "\n",
    "#Index names\n",
    "docnames = [\"Doc\" + str(i) for i in range(len(lda_Train))]\n",
    "\n",
    "#Make the pandas dataframe\n",
    "df_document_topic = pd.DataFrame(np.round(lda_output, 2), columns = topicnames, index = docnames)\n",
    "\n",
    "#Get dominant topic for each document\n",
    "dominant_topic = np.argmax(df_document_topic.values, axis = 1)\n",
    "df_document_topic['dominant_topic'] = dominant_topic\n",
    "\n",
    "df_document_topic.head()"
   ]
  },
  {
   "cell_type": "code",
   "execution_count": 85,
   "metadata": {},
   "outputs": [
    {
     "data": {
      "text/html": [
       "<div>\n",
       "<style scoped>\n",
       "    .dataframe tbody tr th:only-of-type {\n",
       "        vertical-align: middle;\n",
       "    }\n",
       "\n",
       "    .dataframe tbody tr th {\n",
       "        vertical-align: top;\n",
       "    }\n",
       "\n",
       "    .dataframe thead th {\n",
       "        text-align: right;\n",
       "    }\n",
       "</style>\n",
       "<table border=\"1\" class=\"dataframe\">\n",
       "  <thead>\n",
       "    <tr style=\"text-align: right;\">\n",
       "      <th></th>\n",
       "      <th>aaron</th>\n",
       "      <th>able</th>\n",
       "      <th>absolutely</th>\n",
       "      <th>accept</th>\n",
       "      <th>accommodating</th>\n",
       "      <th>account</th>\n",
       "      <th>accurate</th>\n",
       "      <th>across</th>\n",
       "      <th>adam</th>\n",
       "      <th>adan</th>\n",
       "      <th>...</th>\n",
       "      <th>work</th>\n",
       "      <th>worked</th>\n",
       "      <th>working</th>\n",
       "      <th>worth</th>\n",
       "      <th>would</th>\n",
       "      <th>wouldnt</th>\n",
       "      <th>wrong</th>\n",
       "      <th>wyndham</th>\n",
       "      <th>year</th>\n",
       "      <th>yet</th>\n",
       "    </tr>\n",
       "  </thead>\n",
       "  <tbody>\n",
       "    <tr>\n",
       "      <th>Topic0</th>\n",
       "      <td>0.182371</td>\n",
       "      <td>0.198427</td>\n",
       "      <td>0.191606</td>\n",
       "      <td>0.202684</td>\n",
       "      <td>0.191768</td>\n",
       "      <td>0.202994</td>\n",
       "      <td>0.160577</td>\n",
       "      <td>0.213932</td>\n",
       "      <td>0.208693</td>\n",
       "      <td>0.229791</td>\n",
       "      <td>...</td>\n",
       "      <td>0.218327</td>\n",
       "      <td>0.352746</td>\n",
       "      <td>0.344991</td>\n",
       "      <td>0.202561</td>\n",
       "      <td>0.368195</td>\n",
       "      <td>0.230558</td>\n",
       "      <td>0.195979</td>\n",
       "      <td>0.185459</td>\n",
       "      <td>0.252032</td>\n",
       "      <td>0.284046</td>\n",
       "    </tr>\n",
       "    <tr>\n",
       "      <th>Topic1</th>\n",
       "      <td>0.216877</td>\n",
       "      <td>0.196290</td>\n",
       "      <td>0.198745</td>\n",
       "      <td>0.192233</td>\n",
       "      <td>0.185881</td>\n",
       "      <td>0.183365</td>\n",
       "      <td>0.178117</td>\n",
       "      <td>0.178382</td>\n",
       "      <td>0.185769</td>\n",
       "      <td>0.208979</td>\n",
       "      <td>...</td>\n",
       "      <td>0.403791</td>\n",
       "      <td>0.243481</td>\n",
       "      <td>0.207704</td>\n",
       "      <td>0.213907</td>\n",
       "      <td>0.258020</td>\n",
       "      <td>0.189020</td>\n",
       "      <td>0.188540</td>\n",
       "      <td>0.177474</td>\n",
       "      <td>0.183019</td>\n",
       "      <td>0.188610</td>\n",
       "    </tr>\n",
       "    <tr>\n",
       "      <th>Topic2</th>\n",
       "      <td>0.223686</td>\n",
       "      <td>0.164763</td>\n",
       "      <td>0.264527</td>\n",
       "      <td>0.202526</td>\n",
       "      <td>0.184957</td>\n",
       "      <td>0.226166</td>\n",
       "      <td>0.209711</td>\n",
       "      <td>0.188648</td>\n",
       "      <td>0.212903</td>\n",
       "      <td>0.188426</td>\n",
       "      <td>...</td>\n",
       "      <td>0.224318</td>\n",
       "      <td>0.199102</td>\n",
       "      <td>0.200479</td>\n",
       "      <td>1.043680</td>\n",
       "      <td>0.598839</td>\n",
       "      <td>0.203957</td>\n",
       "      <td>0.184202</td>\n",
       "      <td>0.186725</td>\n",
       "      <td>0.243140</td>\n",
       "      <td>0.178859</td>\n",
       "    </tr>\n",
       "    <tr>\n",
       "      <th>Topic3</th>\n",
       "      <td>0.189317</td>\n",
       "      <td>0.267141</td>\n",
       "      <td>0.202013</td>\n",
       "      <td>0.209124</td>\n",
       "      <td>0.159938</td>\n",
       "      <td>0.197817</td>\n",
       "      <td>0.182719</td>\n",
       "      <td>0.196373</td>\n",
       "      <td>0.191110</td>\n",
       "      <td>0.216693</td>\n",
       "      <td>...</td>\n",
       "      <td>0.329059</td>\n",
       "      <td>0.248046</td>\n",
       "      <td>0.245399</td>\n",
       "      <td>0.219284</td>\n",
       "      <td>0.193887</td>\n",
       "      <td>0.182475</td>\n",
       "      <td>0.196864</td>\n",
       "      <td>0.182511</td>\n",
       "      <td>0.186289</td>\n",
       "      <td>0.162811</td>\n",
       "    </tr>\n",
       "    <tr>\n",
       "      <th>Topic4</th>\n",
       "      <td>0.187579</td>\n",
       "      <td>1.590778</td>\n",
       "      <td>0.182946</td>\n",
       "      <td>0.181535</td>\n",
       "      <td>0.184594</td>\n",
       "      <td>0.224003</td>\n",
       "      <td>0.169084</td>\n",
       "      <td>0.211976</td>\n",
       "      <td>0.211863</td>\n",
       "      <td>0.188222</td>\n",
       "      <td>...</td>\n",
       "      <td>0.192799</td>\n",
       "      <td>2.758187</td>\n",
       "      <td>0.209847</td>\n",
       "      <td>0.218151</td>\n",
       "      <td>0.340821</td>\n",
       "      <td>0.173642</td>\n",
       "      <td>0.208193</td>\n",
       "      <td>0.183685</td>\n",
       "      <td>0.204708</td>\n",
       "      <td>0.187336</td>\n",
       "    </tr>\n",
       "  </tbody>\n",
       "</table>\n",
       "<p>5 rows × 583 columns</p>\n",
       "</div>"
      ],
      "text/plain": [
       "           aaron      able  absolutely    accept  accommodating   account  \\\n",
       "Topic0  0.182371  0.198427    0.191606  0.202684       0.191768  0.202994   \n",
       "Topic1  0.216877  0.196290    0.198745  0.192233       0.185881  0.183365   \n",
       "Topic2  0.223686  0.164763    0.264527  0.202526       0.184957  0.226166   \n",
       "Topic3  0.189317  0.267141    0.202013  0.209124       0.159938  0.197817   \n",
       "Topic4  0.187579  1.590778    0.182946  0.181535       0.184594  0.224003   \n",
       "\n",
       "        accurate    across      adam      adan  ...      work    worked  \\\n",
       "Topic0  0.160577  0.213932  0.208693  0.229791  ...  0.218327  0.352746   \n",
       "Topic1  0.178117  0.178382  0.185769  0.208979  ...  0.403791  0.243481   \n",
       "Topic2  0.209711  0.188648  0.212903  0.188426  ...  0.224318  0.199102   \n",
       "Topic3  0.182719  0.196373  0.191110  0.216693  ...  0.329059  0.248046   \n",
       "Topic4  0.169084  0.211976  0.211863  0.188222  ...  0.192799  2.758187   \n",
       "\n",
       "         working     worth     would   wouldnt     wrong   wyndham      year  \\\n",
       "Topic0  0.344991  0.202561  0.368195  0.230558  0.195979  0.185459  0.252032   \n",
       "Topic1  0.207704  0.213907  0.258020  0.189020  0.188540  0.177474  0.183019   \n",
       "Topic2  0.200479  1.043680  0.598839  0.203957  0.184202  0.186725  0.243140   \n",
       "Topic3  0.245399  0.219284  0.193887  0.182475  0.196864  0.182511  0.186289   \n",
       "Topic4  0.209847  0.218151  0.340821  0.173642  0.208193  0.183685  0.204708   \n",
       "\n",
       "             yet  \n",
       "Topic0  0.284046  \n",
       "Topic1  0.188610  \n",
       "Topic2  0.178859  \n",
       "Topic3  0.162811  \n",
       "Topic4  0.187336  \n",
       "\n",
       "[5 rows x 583 columns]"
      ]
     },
     "execution_count": 85,
     "metadata": {},
     "output_type": "execute_result"
    }
   ],
   "source": [
    "#Topic-Keyword Matrix\n",
    "df_topic_keywords = pd.DataFrame(lda_model.components_)\n",
    "\n",
    "#Assign Column and Index\n",
    "df_topic_keywords.columns = count_vect.get_feature_names()\n",
    "df_topic_keywords.index = topicnames\n",
    "\n",
    "#View\n",
    "df_topic_keywords.head()"
   ]
  },
  {
   "cell_type": "code",
   "execution_count": 86,
   "metadata": {},
   "outputs": [
    {
     "data": {
      "text/html": [
       "<div>\n",
       "<style scoped>\n",
       "    .dataframe tbody tr th:only-of-type {\n",
       "        vertical-align: middle;\n",
       "    }\n",
       "\n",
       "    .dataframe tbody tr th {\n",
       "        vertical-align: top;\n",
       "    }\n",
       "\n",
       "    .dataframe thead th {\n",
       "        text-align: right;\n",
       "    }\n",
       "</style>\n",
       "<table border=\"1\" class=\"dataframe\">\n",
       "  <thead>\n",
       "    <tr style=\"text-align: right;\">\n",
       "      <th></th>\n",
       "      <th>Word 0</th>\n",
       "      <th>Word 1</th>\n",
       "      <th>Word 2</th>\n",
       "      <th>Word 3</th>\n",
       "      <th>Word 4</th>\n",
       "      <th>Word 5</th>\n",
       "      <th>Word 6</th>\n",
       "      <th>Word 7</th>\n",
       "      <th>Word 8</th>\n",
       "      <th>Word 9</th>\n",
       "      <th>Word 10</th>\n",
       "    </tr>\n",
       "  </thead>\n",
       "  <tbody>\n",
       "    <tr>\n",
       "      <th>Topic 0</th>\n",
       "      <td>anthony</td>\n",
       "      <td>oriented</td>\n",
       "      <td>process</td>\n",
       "      <td>entire</td>\n",
       "      <td>team</td>\n",
       "      <td>dlj</td>\n",
       "      <td>mortgage</td>\n",
       "      <td>knowledgeable</td>\n",
       "      <td>financial</td>\n",
       "      <td>go</td>\n",
       "      <td>looking</td>\n",
       "    </tr>\n",
       "    <tr>\n",
       "      <th>Topic 1</th>\n",
       "      <td>bank</td>\n",
       "      <td>real</td>\n",
       "      <td>great</td>\n",
       "      <td>people</td>\n",
       "      <td>pleasure</td>\n",
       "      <td>walk</td>\n",
       "      <td>talk</td>\n",
       "      <td>business</td>\n",
       "      <td>fine</td>\n",
       "      <td>time</td>\n",
       "      <td>work</td>\n",
       "    </tr>\n",
       "    <tr>\n",
       "      <th>Topic 2</th>\n",
       "      <td>nasb</td>\n",
       "      <td>service</td>\n",
       "      <td>satisfied</td>\n",
       "      <td>dallas</td>\n",
       "      <td>tree</td>\n",
       "      <td>lending</td>\n",
       "      <td>closing</td>\n",
       "      <td>time</td>\n",
       "      <td>mortgage</td>\n",
       "      <td>product</td>\n",
       "      <td>cost</td>\n",
       "    </tr>\n",
       "    <tr>\n",
       "      <th>Topic 3</th>\n",
       "      <td>honest</td>\n",
       "      <td>responsive</td>\n",
       "      <td>jason</td>\n",
       "      <td>june</td>\n",
       "      <td>work</td>\n",
       "      <td>person</td>\n",
       "      <td>loan</td>\n",
       "      <td>great</td>\n",
       "      <td>helpful</td>\n",
       "      <td>close</td>\n",
       "      <td>jon</td>\n",
       "    </tr>\n",
       "    <tr>\n",
       "      <th>Topic 4</th>\n",
       "      <td>kory</td>\n",
       "      <td>throughout</td>\n",
       "      <td>thanks</td>\n",
       "      <td>process</td>\n",
       "      <td>informative</td>\n",
       "      <td>entire</td>\n",
       "      <td>moving</td>\n",
       "      <td>complicated</td>\n",
       "      <td>calm</td>\n",
       "      <td>none</td>\n",
       "      <td>forward</td>\n",
       "    </tr>\n",
       "    <tr>\n",
       "      <th>Topic 5</th>\n",
       "      <td>loan</td>\n",
       "      <td>time</td>\n",
       "      <td>mistake</td>\n",
       "      <td>would</td>\n",
       "      <td>officer</td>\n",
       "      <td>cant</td>\n",
       "      <td>refinance</td>\n",
       "      <td>best</td>\n",
       "      <td>experience</td>\n",
       "      <td>company</td>\n",
       "      <td>without</td>\n",
       "    </tr>\n",
       "    <tr>\n",
       "      <th>Topic 6</th>\n",
       "      <td>barrett</td>\n",
       "      <td>mr</td>\n",
       "      <td>top</td>\n",
       "      <td>client</td>\n",
       "      <td>professionally</td>\n",
       "      <td>nasb</td>\n",
       "      <td>experience</td>\n",
       "      <td>beyond</td>\n",
       "      <td>even</td>\n",
       "      <td>really</td>\n",
       "      <td>truly</td>\n",
       "    </tr>\n",
       "    <tr>\n",
       "      <th>Topic 7</th>\n",
       "      <td>responsive</td>\n",
       "      <td>work</td>\n",
       "      <td>guy</td>\n",
       "      <td>good</td>\n",
       "      <td>surprise</td>\n",
       "      <td>delay</td>\n",
       "      <td>due</td>\n",
       "      <td>several</td>\n",
       "      <td>company</td>\n",
       "      <td>recommend</td>\n",
       "      <td>would</td>\n",
       "    </tr>\n",
       "    <tr>\n",
       "      <th>Topic 8</th>\n",
       "      <td>poor</td>\n",
       "      <td>dallas</td>\n",
       "      <td>u</td>\n",
       "      <td>contacted</td>\n",
       "      <td>communication</td>\n",
       "      <td>process</td>\n",
       "      <td>loan</td>\n",
       "      <td>werent</td>\n",
       "      <td>nasb</td>\n",
       "      <td>house</td>\n",
       "      <td>sure</td>\n",
       "    </tr>\n",
       "    <tr>\n",
       "      <th>Topic 9</th>\n",
       "      <td>closing</td>\n",
       "      <td>check</td>\n",
       "      <td>day</td>\n",
       "      <td>could</td>\n",
       "      <td>bob</td>\n",
       "      <td>id</td>\n",
       "      <td>told</td>\n",
       "      <td>send</td>\n",
       "      <td>sent</td>\n",
       "      <td>le</td>\n",
       "      <td>paperwork</td>\n",
       "    </tr>\n",
       "    <tr>\n",
       "      <th>Topic 10</th>\n",
       "      <td>estimate</td>\n",
       "      <td>id</td>\n",
       "      <td>completed</td>\n",
       "      <td>constant</td>\n",
       "      <td>agent</td>\n",
       "      <td>need</td>\n",
       "      <td>responsiveness</td>\n",
       "      <td>ever</td>\n",
       "      <td>take</td>\n",
       "      <td>failed</td>\n",
       "      <td>second</td>\n",
       "    </tr>\n",
       "    <tr>\n",
       "      <th>Topic 11</th>\n",
       "      <td>happier</td>\n",
       "      <td>beginning</td>\n",
       "      <td>couldnt</td>\n",
       "      <td>thank</td>\n",
       "      <td>tell</td>\n",
       "      <td>rate</td>\n",
       "      <td>guaranteed</td>\n",
       "      <td>ve</td>\n",
       "      <td>spent</td>\n",
       "      <td>buy</td>\n",
       "      <td>broker</td>\n",
       "    </tr>\n",
       "    <tr>\n",
       "      <th>Topic 12</th>\n",
       "      <td>u</td>\n",
       "      <td>barrett</td>\n",
       "      <td>process</td>\n",
       "      <td>first</td>\n",
       "      <td>beginning</td>\n",
       "      <td>jon</td>\n",
       "      <td>work</td>\n",
       "      <td>throughout</td>\n",
       "      <td>kept</td>\n",
       "      <td>home</td>\n",
       "      <td>read</td>\n",
       "    </tr>\n",
       "    <tr>\n",
       "      <th>Topic 13</th>\n",
       "      <td>spoke</td>\n",
       "      <td>recommended</td>\n",
       "      <td>buying</td>\n",
       "      <td>dallas</td>\n",
       "      <td>came</td>\n",
       "      <td>know</td>\n",
       "      <td>i</td>\n",
       "      <td>note</td>\n",
       "      <td>everyone</td>\n",
       "      <td>professional</td>\n",
       "      <td>clear</td>\n",
       "    </tr>\n",
       "    <tr>\n",
       "      <th>Topic 14</th>\n",
       "      <td>loan</td>\n",
       "      <td>time</td>\n",
       "      <td>va</td>\n",
       "      <td>nasb</td>\n",
       "      <td>need</td>\n",
       "      <td>work</td>\n",
       "      <td>closing</td>\n",
       "      <td>lender</td>\n",
       "      <td>meet</td>\n",
       "      <td>team</td>\n",
       "      <td>home</td>\n",
       "    </tr>\n",
       "    <tr>\n",
       "      <th>Topic 15</th>\n",
       "      <td>fred</td>\n",
       "      <td>always</td>\n",
       "      <td>best</td>\n",
       "      <td>steve</td>\n",
       "      <td>process</td>\n",
       "      <td>never</td>\n",
       "      <td>available</td>\n",
       "      <td>make</td>\n",
       "      <td>going</td>\n",
       "      <td>refinance</td>\n",
       "      <td>great</td>\n",
       "    </tr>\n",
       "    <tr>\n",
       "      <th>Topic 16</th>\n",
       "      <td>loan</td>\n",
       "      <td>would</td>\n",
       "      <td>process</td>\n",
       "      <td>u</td>\n",
       "      <td>home</td>\n",
       "      <td>time</td>\n",
       "      <td>read</td>\n",
       "      <td>mortgage</td>\n",
       "      <td>great</td>\n",
       "      <td>recommend</td>\n",
       "      <td>rate</td>\n",
       "    </tr>\n",
       "    <tr>\n",
       "      <th>Topic 17</th>\n",
       "      <td>rate</td>\n",
       "      <td>point</td>\n",
       "      <td>higher</td>\n",
       "      <td>interest</td>\n",
       "      <td>explain</td>\n",
       "      <td>someone</td>\n",
       "      <td>fee</td>\n",
       "      <td>lender</td>\n",
       "      <td>good</td>\n",
       "      <td>loan</td>\n",
       "      <td>sign</td>\n",
       "    </tr>\n",
       "    <tr>\n",
       "      <th>Topic 18</th>\n",
       "      <td>dean</td>\n",
       "      <td>excellent</td>\n",
       "      <td>work</td>\n",
       "      <td>ll</td>\n",
       "      <td>thorough</td>\n",
       "      <td>easy</td>\n",
       "      <td>expertise</td>\n",
       "      <td>preapproval</td>\n",
       "      <td>industry</td>\n",
       "      <td>contact</td>\n",
       "      <td>throughout</td>\n",
       "    </tr>\n",
       "    <tr>\n",
       "      <th>Topic 19</th>\n",
       "      <td>kory</td>\n",
       "      <td>financial</td>\n",
       "      <td>took</td>\n",
       "      <td>based</td>\n",
       "      <td>decision</td>\n",
       "      <td>loan</td>\n",
       "      <td>option</td>\n",
       "      <td>felt</td>\n",
       "      <td>make</td>\n",
       "      <td>star</td>\n",
       "      <td>fact</td>\n",
       "    </tr>\n",
       "  </tbody>\n",
       "</table>\n",
       "</div>"
      ],
      "text/plain": [
       "              Word 0       Word 1     Word 2     Word 3          Word 4  \\\n",
       "Topic 0      anthony     oriented    process     entire            team   \n",
       "Topic 1         bank         real      great     people        pleasure   \n",
       "Topic 2         nasb      service  satisfied     dallas            tree   \n",
       "Topic 3       honest   responsive      jason       june            work   \n",
       "Topic 4         kory   throughout     thanks    process     informative   \n",
       "Topic 5         loan         time    mistake      would         officer   \n",
       "Topic 6      barrett           mr        top     client  professionally   \n",
       "Topic 7   responsive         work        guy       good        surprise   \n",
       "Topic 8         poor       dallas          u  contacted   communication   \n",
       "Topic 9      closing        check        day      could             bob   \n",
       "Topic 10    estimate           id  completed   constant           agent   \n",
       "Topic 11     happier    beginning    couldnt      thank            tell   \n",
       "Topic 12           u      barrett    process      first       beginning   \n",
       "Topic 13       spoke  recommended     buying     dallas            came   \n",
       "Topic 14        loan         time         va       nasb            need   \n",
       "Topic 15        fred       always       best      steve         process   \n",
       "Topic 16        loan        would    process          u            home   \n",
       "Topic 17        rate        point     higher   interest         explain   \n",
       "Topic 18        dean    excellent       work         ll        thorough   \n",
       "Topic 19        kory    financial       took      based        decision   \n",
       "\n",
       "           Word 5          Word 6         Word 7      Word 8        Word 9  \\\n",
       "Topic 0       dlj        mortgage  knowledgeable   financial            go   \n",
       "Topic 1      walk            talk       business        fine          time   \n",
       "Topic 2   lending         closing           time    mortgage       product   \n",
       "Topic 3    person            loan          great     helpful         close   \n",
       "Topic 4    entire          moving    complicated        calm          none   \n",
       "Topic 5      cant       refinance           best  experience       company   \n",
       "Topic 6      nasb      experience         beyond        even        really   \n",
       "Topic 7     delay             due        several     company     recommend   \n",
       "Topic 8   process            loan         werent        nasb         house   \n",
       "Topic 9        id            told           send        sent            le   \n",
       "Topic 10     need  responsiveness           ever        take        failed   \n",
       "Topic 11     rate      guaranteed             ve       spent           buy   \n",
       "Topic 12      jon            work     throughout        kept          home   \n",
       "Topic 13     know               i           note    everyone  professional   \n",
       "Topic 14     work         closing         lender        meet          team   \n",
       "Topic 15    never       available           make       going     refinance   \n",
       "Topic 16     time            read       mortgage       great     recommend   \n",
       "Topic 17  someone             fee         lender        good          loan   \n",
       "Topic 18     easy       expertise    preapproval    industry       contact   \n",
       "Topic 19     loan          option           felt        make          star   \n",
       "\n",
       "             Word 10  \n",
       "Topic 0      looking  \n",
       "Topic 1         work  \n",
       "Topic 2         cost  \n",
       "Topic 3          jon  \n",
       "Topic 4      forward  \n",
       "Topic 5      without  \n",
       "Topic 6        truly  \n",
       "Topic 7        would  \n",
       "Topic 8         sure  \n",
       "Topic 9    paperwork  \n",
       "Topic 10      second  \n",
       "Topic 11      broker  \n",
       "Topic 12        read  \n",
       "Topic 13       clear  \n",
       "Topic 14        home  \n",
       "Topic 15       great  \n",
       "Topic 16        rate  \n",
       "Topic 17        sign  \n",
       "Topic 18  throughout  \n",
       "Topic 19        fact  "
      ]
     },
     "execution_count": 86,
     "metadata": {},
     "output_type": "execute_result"
    }
   ],
   "source": [
    "# Show top n keywords for each topic\n",
    "def show_topics(vectorizer = count_vect, lda_model = lda_model, n_words = 20):\n",
    "    keywords = np.array(count_vect.get_feature_names())\n",
    "    topic_keywords = []\n",
    "    for topic_weights in lda_model.components_:\n",
    "        top_keyword_locs = (-topic_weights).argsort()[:n_words]\n",
    "        topic_keywords.append(keywords.take(top_keyword_locs))\n",
    "    return topic_keywords\n",
    "\n",
    "topic_keywords = show_topics(vectorizer = count_vect, lda_model = lda_model, n_words = 11)        \n",
    "\n",
    "# Topic - Keywords Dataframe\n",
    "df_topic_keywords = pd.DataFrame(topic_keywords)\n",
    "df_topic_keywords.columns = ['Word '+str(i) for i in range(df_topic_keywords.shape[1])]\n",
    "df_topic_keywords.index = ['Topic '+str(i) for i in range(df_topic_keywords.shape[0])]\n",
    "df_topic_keywords"
   ]
  }
 ],
 "metadata": {
  "kernelspec": {
   "display_name": "Python 3",
   "language": "python",
   "name": "python3"
  },
  "language_info": {
   "codemirror_mode": {
    "name": "ipython",
    "version": 3
   },
   "file_extension": ".py",
   "mimetype": "text/x-python",
   "name": "python",
   "nbconvert_exporter": "python",
   "pygments_lexer": "ipython3",
   "version": "3.7.3"
  }
 },
 "nbformat": 4,
 "nbformat_minor": 2
}
